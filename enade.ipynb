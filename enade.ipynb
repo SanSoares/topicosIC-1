{
 "cells": [
  {
   "cell_type": "code",
   "execution_count": null,
   "metadata": {},
   "outputs": [],
   "source": [
    "import pandas\n",
    "import matplotlib.pyplot as plt\n",
    "\n",
    "enade2017=pandas.read_csv(\"datasets\\MICRODADOS_ENADE_2017.txt\", sep=';',dtype={\"DS_VT_ESC_OFG\": str, \n",
    "                                                                               'DS_VT_ESC_OCE':str,\n",
    "                                                                              'DS_VT_ACE_OCE':str,\n",
    "                                                                              'NT_GER':str,\n",
    "                                                                              'NT_FG':str,\n",
    "                                                                              'NT_OBJ_FG':str,\n",
    "                                                                              'NT_DIS_FG':str,\n",
    "                                                                              'NT_CE':str,\n",
    "                                                                              'NT_OBJ_CE':str,\n",
    "                                                                              'NT_DIS_CE':str})"
   ]
  },
  {
   "cell_type": "code",
   "execution_count": null,
   "metadata": {},
   "outputs": [],
   "source": [
    "enade2017.columns[0:10]"
   ]
  },
  {
   "cell_type": "code",
   "execution_count": null,
   "metadata": {},
   "outputs": [],
   "source": [
    "'''\n",
    "nota geral: 0-98 \n",
    "questão08: Qual a renda total de sua família, incluindo seus rendimentos?\n",
    "A = Até 1,5 salário mínimo (até R$ 1.405,50).\n",
    "B = De 1,5 a 3 salários mínimos (R$ 1.405,51 a R$ 2.811,00).\n",
    "C = De 3 a 4,5 salários mínimos (R$ 2.811,01 a R$ 4.216,50).\n",
    "D = De 4,5 a 6 salários mínimos (R$ 4.216,51 a R$ 5.622,00).\n",
    "E = De 6 a 10 salários mínimos (R$ 5. 622,01 a R$ 9.370,00).\n",
    "F = De 10 a 30 salários mínimos (R$ 9.370,01 a R$ 28.110,00).\n",
    "G = Acima de 30 salários mínimos (mais de R$ 28.110,00).\n",
    "\n",
    "i05 escolaridade da mae\n",
    "A = Nenhuma.\n",
    "B = Ensino fundamental: 1º ao 5º ano (1ª a 4ª série).\n",
    "C = Ensino fundamental: 6º ao 9º ano (5ª a 8ª série).\n",
    "D = Ensino médio.\n",
    "E = Ensino Superior - Graduação.\n",
    "F = Pós-graduação.\n",
    "\n",
    "'''\n",
    "\n",
    "tabela = pandas.DataFrame(enade2017, columns=['NT_GER', 'CO_GRUPO', 'QE_I08', 'CO_IES', 'QE_I05'])\n",
    "tabela.head(10)"
   ]
  },
  {
   "cell_type": "code",
   "execution_count": null,
   "metadata": {},
   "outputs": [],
   "source": [
    "##limpeza dos dados\n",
    "\n",
    "#substitui vírgula por ponto\n",
    "tabela['NT_GER'] = tabela['NT_GER'].str.replace(',', '.')\n",
    "print (tabela['NT_GER'])\n",
    "\n",
    "#observe os NaN (not a number)"
   ]
  },
  {
   "cell_type": "code",
   "execution_count": null,
   "metadata": {},
   "outputs": [],
   "source": [
    "'''No arquivo 'Dicionário de variáveis dos Microdados do Enade_Edição 2017' descreve que:\n",
    "o codigo 222 no campo TP_PR_GER significa ausente \n",
    "556 e 888 são participações desconsideradas.\n",
    "Portanto, algumas notas podem ser desconsideradas dependendo do seu objetivo, \n",
    "e aqui, será de calcular a média daqueles que fizeram a prova.\n",
    "'''\n",
    "tabela=tabela.loc[(tabela['NT_GER'].notnull())]\n",
    "#print(tabela['NT_GER'])\n",
    "#converte de str para float\n",
    "tabela['NT_GER'] = pandas.to_numeric(tabela['NT_GER'])\n",
    "print(tabela['NT_GER'])\n",
    "print(tabela['NT_GER'].mean())"
   ]
  },
  {
   "cell_type": "code",
   "execution_count": null,
   "metadata": {},
   "outputs": [],
   "source": [
    "tabela['NT_GER'].describe()"
   ]
  },
  {
   "cell_type": "code",
   "execution_count": null,
   "metadata": {},
   "outputs": [],
   "source": [
    "#outros comandos\n",
    "print('indice da primeira maior nota: ', tabela['NT_GER'].idxmax())\n",
    "print('Maior nota: ', tabela['NT_GER'][72257])\n",
    "#print(tabela['NT_GER'].idxmax())"
   ]
  },
  {
   "cell_type": "code",
   "execution_count": null,
   "metadata": {},
   "outputs": [],
   "source": [
    "#Calcula a média de um curso especifico\n",
    "#Código da área de enquadramento do curso no Enade == ciencia da computacao\n",
    "\n",
    "ccomp = tabela[tabela['CO_GRUPO']==4004]\n",
    "\n",
    "print(ccomp)"
   ]
  },
  {
   "cell_type": "code",
   "execution_count": null,
   "metadata": {},
   "outputs": [],
   "source": [
    "ccomp['NT_GER'].describe()"
   ]
  },
  {
   "cell_type": "code",
   "execution_count": null,
   "metadata": {},
   "outputs": [],
   "source": [
    "#do curso do IFNMG\n",
    "ifccomp = ccomp[ccomp['CO_IES']==3188]\n",
    "ifccomp.describe()"
   ]
  },
  {
   "cell_type": "code",
   "execution_count": null,
   "metadata": {},
   "outputs": [],
   "source": [
    "#somente as notas de quem respondeu a questão sobre a renda\n",
    "ccomp=ccomp.loc[(ccomp['QE_I08'].notnull())]\n",
    "ccomp.NT_GER.describe()"
   ]
  },
  {
   "cell_type": "code",
   "execution_count": null,
   "metadata": {},
   "outputs": [],
   "source": [
    "ccomp=ccomp.loc[(ccomp['QE_I05'].notnull())]\n",
    "ccomp.NT_GER.describe()"
   ]
  },
  {
   "cell_type": "code",
   "execution_count": null,
   "metadata": {},
   "outputs": [],
   "source": [
    "ccomp.QE_I08.head(10)\n",
    "\n",
    "ccomp['QE_I08'] = ccomp['QE_I08'].map({'A': 1, 'B': 2, 'C': 3, 'D': 4,'E': 5, 'F':6,'G':7})\n",
    "\n",
    "ccomp.QE_I08.head(10)"
   ]
  },
  {
   "cell_type": "code",
   "execution_count": null,
   "metadata": {},
   "outputs": [],
   "source": [
    "import matplotlib.pyplot as plt\n",
    "#visualmente\n",
    "plt.scatter( ccomp.NT_GER, ccomp.QE_I08)\n",
    "plt.ylabel('Faixa de renda')\n",
    "plt.xlabel('Nota do curso de C. da Comp.')\n",
    "plt.show()"
   ]
  },
  {
   "cell_type": "code",
   "execution_count": null,
   "metadata": {},
   "outputs": [],
   "source": [
    "ccomp.QE_I05 = ccomp['QE_I05'].map({'A': 1, 'B': 2, 'C': 3, 'D': 4,'E': 5, 'F':6})\n",
    "\n",
    "ccomp.QE_I05.head(10)"
   ]
  },
  {
   "cell_type": "code",
   "execution_count": null,
   "metadata": {},
   "outputs": [],
   "source": [
    "#visualmente\n",
    "plt.scatter( ccomp.NT_GER, ccomp.QE_I05)\n",
    "plt.ylabel('Escolaridade da mãe')\n",
    "plt.xlabel('Nota do curso de C. da Comp.')\n",
    "plt.show()"
   ]
  },
  {
   "cell_type": "code",
   "execution_count": null,
   "metadata": {},
   "outputs": [],
   "source": [
    "escolaridade = ccomp.loc[ccomp.QE_I05 ==1]\n",
    "escolaridade.NT_GER.describe()"
   ]
  },
  {
   "cell_type": "code",
   "execution_count": null,
   "metadata": {},
   "outputs": [],
   "source": [
    "#outros exemplos de consultas\n",
    "tabela = pandas.DataFrame(enade2017, columns=['NT_GER', 'CO_CATEGAD','CO_GRUPO', 'QE_I08', 'CO_IES', 'QE_I05'])\n",
    "\n",
    "#apenas IES federais\n",
    "ccompfederal = tabela.loc[ (tabela.CO_CATEGAD==1)]\n",
    "ccompfederal.head()"
   ]
  },
  {
   "cell_type": "code",
   "execution_count": null,
   "metadata": {},
   "outputs": [],
   "source": [
    "#Como verificar se a média dos alunos do campo QE_I05 para todos os alunos são realmente diferentes\n",
    "qe05 = pandas.DataFrame(tabela, columns=['NT_GER', 'QE_I05'])\n",
    "qe05.boxplot(by='QE_I05')"
   ]
  },
  {
   "cell_type": "code",
   "execution_count": null,
   "metadata": {},
   "outputs": [],
   "source": [
    "#para os alunos de computacao\n",
    "qe05 = pandas.DataFrame(ccomp, columns=['NT_GER', 'QE_I05'])\n",
    "qe05.boxplot(by='QE_I05')"
   ]
  },
  {
   "cell_type": "code",
   "execution_count": null,
   "metadata": {},
   "outputs": [],
   "source": [
    "#A análise de variância (ANOVA) é um teste usado para comparar as médias de dois grupos. \n",
    "#suposições: normalidade, independência e variância homegênea\n",
    "\n",
    "#nota geral agrupada pela questão 05\n",
    "tabela['NT_GER'].groupby(tabela['QE_I05']).describe()"
   ]
  },
  {
   "cell_type": "code",
   "execution_count": null,
   "metadata": {},
   "outputs": [],
   "source": [
    "#teste das suposições\n",
    "import scipy.stats as stats\n",
    "\n",
    "print(stats.shapiro(qe05.NT_GER.loc[qe05.QE_I05 ==1]))\n",
    "\n",
    "print(stats.shapiro(qe05.NT_GER.loc[qe05.QE_I05 ==6]))\n",
    "\n",
    "#a saída do teste é o valor W e o p-value\n",
    "#Considera-se que a suposição não é violada quando o p-value é maior que alpha, normalmente 0.05\n",
    "\n",
    "#pelo histograma, também é possível observar a distribuição dos dados. \n",
    "qe05.NT_GER.loc[qe05.QE_I05 ==6].hist()"
   ]
  },
  {
   "cell_type": "code",
   "execution_count": null,
   "metadata": {},
   "outputs": [],
   "source": [
    "# teste não paramétrico são métodos que não assumem uma distribuição específica para os dados.\n",
    "stat, p = stats.mannwhitneyu(qe05.NT_GER.loc[qe05.QE_I05 ==1], qe05.NT_GER.loc[qe05.QE_I05 ==6])\n",
    "\n",
    "print('Mann-Whitney: Estatisticas=%.3f, p=%.3f' % (stat, p))\n",
    "\n",
    "alpha = 0.05\n",
    "if p > alpha:\n",
    "\tprint('Mesma distribuição')\n",
    "else:\n",
    "\tprint('Distribução diferente')\n",
    "    \n",
    "    \n",
    "stat, p = stats.kruskal(qe05.NT_GER.loc[qe05.QE_I05 ==1], qe05.NT_GER.loc[qe05.QE_I05 ==6])\n",
    "print('Kruskal-Wallis: Estatisticas=%.3f, p=%.3f' % (stat, p))\n",
    "\n",
    "if p > alpha:\n",
    "\tprint('Mesma distribuição')\n",
    "else:\n",
    "\tprint('Distribução diferente')\n",
    "    \n",
    "#anova\n",
    "stat, p = stats.f_oneway(qe05.NT_GER.loc[qe05.QE_I05 ==1], qe05.NT_GER.loc[qe05.QE_I05 ==6])\n",
    "print('Anova: Estatisticas=%.3f, p=%.3f' % (stat, p))\n",
    "if p > alpha:\n",
    "\tprint('Mesma distribuição')\n",
    "else:\n",
    "\tprint('Distribução diferente')"
   ]
  }
 ],
 "metadata": {
  "kernelspec": {
   "display_name": "Python 3",
   "language": "python",
   "name": "python3"
  },
  "language_info": {
   "codemirror_mode": {
    "name": "ipython",
    "version": 3
   },
   "file_extension": ".py",
   "mimetype": "text/x-python",
   "name": "python",
   "nbconvert_exporter": "python",
   "pygments_lexer": "ipython3",
   "version": "3.6.5"
  }
 },
 "nbformat": 4,
 "nbformat_minor": 2
}
