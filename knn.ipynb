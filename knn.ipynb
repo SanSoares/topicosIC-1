{
 "cells": [
  {
   "cell_type": "code",
   "execution_count": 1,
   "metadata": {},
   "outputs": [
    {
     "name": "stdout",
     "output_type": "stream",
     "text": [
      "[0 0 0 0 0 0 0 0 0 0 1 1 1 1 1 1 1 1 1 1 2 1 2 2 2 2 2 2 2 2]\n",
      "[0 0 0 0 0 0 0 0 0 0 1 1 1 1 1 1 1 1 1 1 2 2 2 2 2 2 2 2 2 2]\n"
     ]
    }
   ],
   "source": [
    "#Equipe: Marianna Leandra, Nayara Thaiza, Samuel Soares\n",
    "import numpy as np  \n",
    "import matplotlib.pyplot as plt  \n",
    "import pandas as pd  \n",
    "\n",
    "#dados\n",
    "from sklearn import datasets\n",
    "#plot\n",
    "import matplotlib.pyplot as plt\n",
    "\n",
    "iris = datasets.load_iris()\n",
    "X = iris.data[:, :3]  # as duas primeiras caracteristicas\n",
    "y = iris.target #classificacao\n",
    "#0 Comprimento da sépala; 1 Largura da sépala; 2 comprimento da pétala; Largura da pétala \n",
    "#setosa, versicolor, virginica\n",
    "\n",
    "from sklearn.preprocessing import StandardScaler  \n",
    "import numpy\n",
    "scaler = StandardScaler()  \n",
    "#dados de treinamento 'até 40' de cada classe\n",
    "yt=numpy.concatenate([y[:40], y[51:90], y[101:140]])\n",
    "xt = numpy.concatenate([X[:40,:], X[51:90,:], X[101:140,:]])\n",
    "scaler.fit(xt, yt)  \n",
    "\n",
    "#validacão com o restante dos dados\n",
    "yv=numpy.concatenate([y[40:50], y[90:100], y[140:150]])\n",
    "xv = numpy.concatenate([X[40:50,:], X[90:100,:], X[140:150,:]])\n",
    "\n",
    "xt = scaler.transform(xt)  \n",
    "xv = scaler.transform(xv)  \n",
    "\n",
    "from sklearn.neighbors import KNeighborsClassifier  \n",
    "classifier = KNeighborsClassifier(n_neighbors=5)  \n",
    "classifier.fit(xt, yt)  \n",
    "\n",
    "yp = classifier.predict(xv) \n",
    "print(yp)\n",
    "print(yv)\n"
   ]
  },
  {
   "cell_type": "code",
   "execution_count": 2,
   "metadata": {
    "scrolled": true
   },
   "outputs": [
    {
     "name": "stdout",
     "output_type": "stream",
     "text": [
      "0.9666666666666667\n"
     ]
    }
   ],
   "source": [
    "#Etapa 2 -- Validacao\n",
    "from sklearn.metrics import classification_report, confusion_matrix  \n",
    "#print(confusion_matrix(yv, yp))  \n",
    "#print(classification_report(yv, yp)) \n",
    "print(classifier.score(xv,yv))"
   ]
  },
  {
   "cell_type": "code",
   "execution_count": null,
   "metadata": {},
   "outputs": [],
   "source": [
    "#Com 2 caracteristicas e k = 1  temos aproximadamente 66% de acerto\n",
    "#Com 2 caracteristicas e k = 3  temos aproximadamente 70% de acerto\n",
    "#Com 2 características e k = 5 temos aproximadamente 73% de acerto\n",
    "#Com 3 caracteristicas e k = 1  temos aproximadamente 83% de acerto\n",
    "#Com 3 caracteristicas e k = 3  temos aproximadamente 90% de acerto\n",
    "#Com 3 caracteristicas e k = 5  temos aproximadamente 96% de acerto\n",
    "#Com todas as caracteristicas e k = 5  temos 100% de acerto\n",
    "\n",
    "\n"
   ]
  }
 ],
 "metadata": {
  "kernelspec": {
   "display_name": "Python 3",
   "language": "python",
   "name": "python3"
  },
  "language_info": {
   "codemirror_mode": {
    "name": "ipython",
    "version": 3
   },
   "file_extension": ".py",
   "mimetype": "text/x-python",
   "name": "python",
   "nbconvert_exporter": "python",
   "pygments_lexer": "ipython3",
   "version": "3.6.5"
  }
 },
 "nbformat": 4,
 "nbformat_minor": 2
}
